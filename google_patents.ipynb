{
 "cells": [
  {
   "cell_type": "code",
   "execution_count": 26,
   "metadata": {},
   "outputs": [],
   "source": [
    "import requests\n",
    "import pandas as pd\n",
    "import os\n",
    "import random\n",
    "import time\n",
    "from selenium import webdriver\n",
    "chromeOptions = webdriver.ChromeOptions()"
   ]
  },
  {
   "cell_type": "code",
   "execution_count": null,
   "metadata": {},
   "outputs": [],
   "source": [
    "# 设置代理\n",
    "PROXY = \"localhost:7890\"\n",
    "chrome_options = webdriver.ChromeOptions()\n",
    "chrome_options.add_argument('--proxy-server={0}'.format(PROXY))\n",
    "# 一定要注意，=两边不能有空格，不能是这样--proxy-server = 202.20.16.82:10152\n",
    "browser = webdriver.Chrome(chrome_options=chromeOptions)\n",
    "\n",
    "# 查看本机ip，查看代理是否起作用\n",
    "\n",
    "\n",
    "# 随机user-agent池\n",
    "user_agent_pool = [\n",
    "    \"Mozilla/5.0 (Macintosh; U; Mac OS X Mach-O; en-US; rv:2.0a) Gecko/20040614 Firefox/3.0.0 \",\n",
    "    \"Mozilla/5.0 (Macintosh; U; PPC Mac OS X 10.5; en-US; rv:1.9.0.3) Gecko/2008092414 Firefox/3.0.3\",\n",
    "    \"Mozilla/5.0 (Macintosh; U; Intel Mac OS X 10.5; en-US; rv:1.9.1) Gecko/20090624 Firefox/3.5\",\n",
    "    \"Mozilla/5.0 (Macintosh; U; Intel Mac OS X 10.6; en-US; rv:1.9.2.14) Gecko/20110218 AlexaToolbar/alxf-2.0 Firefox/3.6.14\",\n",
    "    \"Mozilla/5.0 (Macintosh; U; PPC Mac OS X 10.5; en-US; rv:1.9.2.15) Gecko/20110303 Firefox/3.6.15\",\n",
    "    \"Mozilla/5.0 (Macintosh; Intel Mac OS X 10.6; rv:2.0.1) Gecko/20100101 Firefox/4.0.1\"\n",
    "]\n",
    "\n",
    "for file_name in file_name_list:\n",
    "    file_location = './google_patents/' + file_name\n",
    "    if os.path.exists(file_location):\n",
    "        continue\n",
    "    url = url_list[file_name_list.index(file_name)]\n",
    "    #url = 'https://en.ipip.net/'\n",
    "    #    url = 'http://baidu.com'\n",
    "    headers = {}\n",
    "    headers['user_agent'] = user_agent_pool[random.randrange(\n",
    "        0, len(user_agent_pool))]\n",
    "    proxies = {\n",
    "        'http': 'http://localhost:7890',\n",
    "        'https': 'http://localhost:7890'\n",
    "    }\n",
    "    print(proxies)\n",
    "    browser.get(url)\n",
    "    #r = requests.get(url, stream=True, headers=headers, proxies=proxies)\n",
    "    break\n",
    "#     fo = open(file_location,'wb')\n",
    "#     fo.write(r.content)\n",
    "#     fo.close()\n",
    "# # 我选择延迟15s，没有被封禁\n",
    "#     time.sleep(20)\n"
   ]
  },
  {
   "cell_type": "code",
   "execution_count": null,
   "metadata": {},
   "outputs": [],
   "source": [
    "#删除错误文件\n",
    "for i in os.listdir(\n",
    "        '/Users/administrator/work-collection/google_pantents_scraping/google_patents'\n",
    "):\n",
    "    try:\n",
    "        a = pd.read_csv(\n",
    "            '/Users/administrator/work-collection/google_pantents_scraping/google_patents/'\n",
    "            + i)\n",
    "    except:\n",
    "        os.remove(\n",
    "            '/Users/administrator/work-collection/google_pantents_scraping/google_patents/'\n",
    "            + i)\n",
    "        print(i)"
   ]
  },
  {
   "cell_type": "code",
   "execution_count": 27,
   "metadata": {},
   "outputs": [],
   "source": [
    "key_file = pd.read_csv('KEY_WORDS.csv')\n",
    "base_url = \"https://patents.google.com\"\n",
    "\n",
    "key_words = []\n",
    "for i in range(len(key_file['KEY_WORDS'])):\n",
    "    key_words.append(key_file['KEY_WORDS'][i].strip())\n",
    "\n",
    "date_list = []\n",
    "for year in range(2022, 1990, -1):\n",
    "    for month in range(12, 0, -1):\n",
    "        if year == 2022 and month >= 6:\n",
    "            continue\n",
    "        date = str(year) + '0' + str(month) + '02-' + str(year) + '0' + str(\n",
    "            month + 1) + '01'\n",
    "        if month >= 10:\n",
    "            date = str(year) + str(month) + '02-' + str(year) + str(month +\n",
    "                                                                    1) + '01'\n",
    "        if month == 9:\n",
    "            date = str(year) + '0' + str(month) + '02-' + str(year) + str(\n",
    "                month + 1) + '01'\n",
    "        if month == 12:\n",
    "            date = str(year - 1) + str(month) + '02-' + str(year) + '01' + '01'\n",
    "        date_list.append(date)\n",
    "\n",
    "file_name_list = []\n",
    "for key_word in key_words:\n",
    "    for date in date_list:\n",
    "        file_name = key_word.replace(' ', '_') + '_' + date + '.csv'\n",
    "        file_name_list.append(file_name)\n",
    "\n",
    "url_list = []\n",
    "for key_word in key_words:\n",
    "    for date in date_list:\n",
    "        date_0 = date.split('-')[0]\n",
    "        date_1 = date.split('-')[1]\n",
    "        href = '''/xhr/query?url=q%3D''' + key_word.replace(\n",
    "            ' ', '%2B'\n",
    "        ) + '''%26before%3Dpriority%3A''' + date_1 + '''%26after%3Dpriority%3A''' + date_0 + '''&exp=&download=true'''\n",
    "        url_list.append(base_url + href)"
   ]
  },
  {
   "cell_type": "code",
   "execution_count": 28,
   "metadata": {},
   "outputs": [
    {
     "name": "stdout",
     "output_type": "stream",
     "text": [
      "{'http': 'http://localhost:7890', 'https': 'http://localhost:7890'}\n"
     ]
    }
   ],
   "source": [
    "# 随机user-agent池\n",
    "user_agent_pool = [\n",
    "    \"Mozilla/5.0 (Macintosh; U; Mac OS X Mach-O; en-US; rv:2.0a) Gecko/20040614 Firefox/3.0.0 \",\n",
    "    \"Mozilla/5.0 (Macintosh; U; PPC Mac OS X 10.5; en-US; rv:1.9.0.3) Gecko/2008092414 Firefox/3.0.3\",\n",
    "    \"Mozilla/5.0 (Macintosh; U; Intel Mac OS X 10.5; en-US; rv:1.9.1) Gecko/20090624 Firefox/3.5\",\n",
    "    \"Mozilla/5.0 (Macintosh; U; Intel Mac OS X 10.6; en-US; rv:1.9.2.14) Gecko/20110218 AlexaToolbar/alxf-2.0 Firefox/3.6.14\",\n",
    "    \"Mozilla/5.0 (Macintosh; U; PPC Mac OS X 10.5; en-US; rv:1.9.2.15) Gecko/20110303 Firefox/3.6.15\",\n",
    "    \"Mozilla/5.0 (Macintosh; Intel Mac OS X 10.6; rv:2.0.1) Gecko/20100101 Firefox/4.0.1\"\n",
    "]\n",
    "\n",
    "for file_name in file_name_list:\n",
    "    file_location = './google_patents/' + file_name\n",
    "    if os.path.exists(file_location):\n",
    "        continue\n",
    "    url = url_list[file_name_list.index(file_name)]\n",
    "    #url = 'https://en.ipip.net/'\n",
    "    #    url = 'http://baidu.com'\n",
    "    headers = {}\n",
    "    headers['user_agent'] = user_agent_pool[random.randrange(\n",
    "        0, len(user_agent_pool))]\n",
    "    proxies = {\n",
    "        'http': 'http://localhost:7890',\n",
    "        'https': 'http://localhost:7890'\n",
    "    }\n",
    "    print(proxies)\n",
    "    r = requests.get(url, stream=True, headers=headers, proxies=proxies)\n",
    "    break\n",
    "#     fo = open(file_location,'wb')\n",
    "#     fo.write(r.content)\n",
    "#     fo.close()\n",
    "# # 我选择延迟15s，没有被封禁\n",
    "#     time.sleep(20)\n"
   ]
  },
  {
   "cell_type": "code",
   "execution_count": 29,
   "metadata": {},
   "outputs": [
    {
     "data": {
      "text/plain": [
       "<Response [200]>"
      ]
     },
     "execution_count": 29,
     "metadata": {},
     "output_type": "execute_result"
    }
   ],
   "source": [
    "r"
   ]
  },
  {
   "cell_type": "code",
   "execution_count": 23,
   "metadata": {},
   "outputs": [
    {
     "name": "stdout",
     "output_type": "stream",
     "text": [
      "{'http': 'http://localhost:7890', 'https': 'http://localhost:7890'}\n"
     ]
    }
   ],
   "source": [
    "import requests\n",
    "import random\n",
    "# 随机user-agent池\n",
    "user_agent_pool = [\n",
    "    \"Mozilla/5.0 (Macintosh; U; Mac OS X Mach-O; en-US; rv:2.0a) Gecko/20040614 Firefox/3.0.0 \",\n",
    "    \"Mozilla/5.0 (Macintosh; U; PPC Mac OS X 10.5; en-US; rv:1.9.0.3) Gecko/2008092414 Firefox/3.0.3\",\n",
    "    \"Mozilla/5.0 (Macintosh; U; Intel Mac OS X 10.5; en-US; rv:1.9.1) Gecko/20090624 Firefox/3.5\",\n",
    "    \"Mozilla/5.0 (Macintosh; U; Intel Mac OS X 10.6; en-US; rv:1.9.2.14) Gecko/20110218 AlexaToolbar/alxf-2.0 Firefox/3.6.14\",\n",
    "    \"Mozilla/5.0 (Macintosh; U; PPC Mac OS X 10.5; en-US; rv:1.9.2.15) Gecko/20110303 Firefox/3.6.15\",\n",
    "    \"Mozilla/5.0 (Macintosh; Intel Mac OS X 10.6; rv:2.0.1) Gecko/20100101 Firefox/4.0.1\"\n",
    "]\n",
    "\n",
    "f = open(r'test.txt', 'r')  #打开所保存的cookies内容文件\n",
    "cookies_list = []\n",
    "\n",
    "for line in f.readlines():\n",
    "    cookies = {}\n",
    "    for i in line.split(';'):  #按照字符：进行划分读取\n",
    "        #其设置为1就会把字符串拆分成2份\n",
    "        name, value = i.strip().split('=', 1)\n",
    "        cookies[name] = value  #为字典cookies添加内容\n",
    "    cookies_list.append(cookies)\n",
    "\n",
    "url = 'https://patents.google.com/xhr/query?url=q%3Dpollution%2Btreatment%26before%3Dpriority%3A20040201%26after%3Dpriority%3A20040102&exp=&download=true'\n",
    "#url = 'https://en.ipip.net/'\n",
    "# url = 'https://patents.google.com/'\n",
    "headers = {}\n",
    "headers['user_agent'] = user_agent_pool[random.randrange(\n",
    "    0, len(user_agent_pool))]\n",
    "#clash翻墙的端口\n",
    "proxies = {'http': 'http://localhost:7890', 'https': 'http://localhost:7890'}\n",
    "print(proxies)\n",
    "r = requests.get(url,\n",
    "                 stream=True,\n",
    "                 headers=headers,\n",
    "                 proxies=proxies,\n",
    "                 cookies=cookies)\n"
   ]
  },
  {
   "cell_type": "code",
   "execution_count": 24,
   "metadata": {},
   "outputs": [
    {
     "data": {
      "text/plain": [
       "<Response [429]>"
      ]
     },
     "execution_count": 24,
     "metadata": {},
     "output_type": "execute_result"
    }
   ],
   "source": [
    "r"
   ]
  },
  {
   "cell_type": "code",
   "execution_count": 20,
   "metadata": {},
   "outputs": [
    {
     "data": {
      "text/plain": [
       "'https://patents.google.com/xhr/query?url=q%3Dpollution%2Btreatment%26before%3Dpriority%3A20040201%26after%3Dpriority%3A20040102&exp=&download=true'"
      ]
     },
     "execution_count": 20,
     "metadata": {},
     "output_type": "execute_result"
    }
   ],
   "source": [
    "url"
   ]
  },
  {
   "cell_type": "code",
   "execution_count": null,
   "metadata": {},
   "outputs": [],
   "source": [
    "from smtplib import SMTP_SSL\n",
    "from email.mime.text import MIMEText\n",
    "\n",
    "message = 'Python 测试邮件...'\n",
    "Subject = '主题测试'\n",
    "# 显示发送人\n",
    "sender_show = 'dipan.tang@foxmail.com'\n",
    "# 显示收件人\n",
    "recipient_show = 'xxx'\n",
    "# 实际发给的收件人\n",
    "to_addrs = 'tararatang@icloud.com'\n",
    "# 填写真实的发邮件服务器用户名、密码\n",
    "user = 'dipan.tang@foxmail.com'\n",
    "password = 'eszcbpfyugjhbcch'\n",
    "# 邮件内容\n",
    "msg = MIMEText(message, 'plain', _charset=\"utf-8\")\n",
    "# 邮件主题描述\n",
    "msg[\"Subject\"] = Subject\n",
    "# 发件人显示，不起实际作用\n",
    "msg[\"from\"] = sender_show\n",
    "# 收件人显示，不起实际作用\n",
    "msg[\"to\"] = recipient_show\n",
    "# 抄送人显示，不起实际作用\n",
    "msg[\"Cc\"] = ''\n",
    "with SMTP_SSL(host=\"smtp.qq.com\",port=465) as smtp:\n",
    "    # 登录发邮件服务器\n",
    "    smtp.login(user = user, password = password)\n",
    "    # 实际发送、接收邮件配置\n",
    "    smtp.sendmail(from_addr = user, to_addrs=to_addrs.split(','), msg=msg.as_string())"
   ]
  },
  {
   "cell_type": "code",
   "execution_count": null,
   "metadata": {},
   "outputs": [],
   "source": [
    "import emailbox as emb\n",
    "message = 'Python 测试邮件...'\n",
    "Subject = '主题测试'\n",
    "# 显示发送人\n",
    "sender_show = 'dipan.tang@foxmail.com'\n",
    "# 显示收件人\n",
    "recipient_show = 'xxx'\n",
    "# 实际发给的收件人\n",
    "to_addrs = 'tararatang@icloud.com'\n",
    "emb.sendMail(message,Subject,sender_show,recipient_show,to_addrs)"
   ]
  },
  {
   "cell_type": "code",
   "execution_count": null,
   "metadata": {},
   "outputs": [],
   "source": [
    "import browser_cookie3\n",
    "import requests\n",
    "cj = browser_cookie3.chrome() # firefox可以替换为browser_cookie3.firefox()"
   ]
  },
  {
   "cell_type": "code",
   "execution_count": null,
   "metadata": {},
   "outputs": [],
   "source": [
    "cj"
   ]
  },
  {
   "cell_type": "code",
   "execution_count": null,
   "metadata": {},
   "outputs": [],
   "source": [
    "cj = browser_cookie3.load(domain_name='patents.google.com')"
   ]
  },
  {
   "cell_type": "code",
   "execution_count": null,
   "metadata": {},
   "outputs": [],
   "source": [
    "a = []\n",
    "for cookies in cj:\n",
    "    a.append(cookies)\n",
    "cookies_str = a[2]\n",
    "    "
   ]
  },
  {
   "cell_type": "code",
   "execution_count": null,
   "metadata": {},
   "outputs": [],
   "source": [
    "cookies_str"
   ]
  },
  {
   "cell_type": "code",
   "execution_count": null,
   "metadata": {},
   "outputs": [],
   "source": [
    "cookies = {}\n",
    "cookies_str = '''version=0, name='CGIC', value='IocBdGV4dC9odG1sLGFwcGxpY2F0aW9uL3hodG1sK3htbCxhcHBsaWNhdGlvbi94bWw7cT0wLjksaW1hZ2UvYXZpZixpbWFnZS93ZWJwLGltYWdlL2FwbmcsKi8qO3E9MC44LGFwcGxpY2F0aW9uL3NpZ25lZC1leGNoYW5nZTt2PWIzO3E9MC45', port=None, port_specified=False, domain='.google.com', domain_specified=True, domain_initial_dot=True, path='/complete/search', path_specified=True, secure=0, expires=1641624445, discard=False, comment=None, comment_url=None, rest={'HTTPOnly': ''}, rfc2109=False'''\n",
    "for i in cookies_str.split(','):  #按照字符：进行划分读取\n",
    "    #其设置为1就会把字符串拆分成2份\n",
    "    name, value = i.strip().split('=', 1)\n",
    "    cookies[name] = value  #为字典cookies添加内容"
   ]
  },
  {
   "cell_type": "code",
   "execution_count": null,
   "metadata": {},
   "outputs": [],
   "source": [
    "cookies"
   ]
  }
 ],
 "metadata": {
  "kernelspec": {
   "display_name": "Python 3.9.7 ('base')",
   "language": "python",
   "name": "python3"
  },
  "language_info": {
   "codemirror_mode": {
    "name": "ipython",
    "version": 3
   },
   "file_extension": ".py",
   "mimetype": "text/x-python",
   "name": "python",
   "nbconvert_exporter": "python",
   "pygments_lexer": "ipython3",
   "version": "3.9.7"
  },
  "orig_nbformat": 4,
  "vscode": {
   "interpreter": {
    "hash": "e98fbb119831efe5eb4a858ca105235c812df6116810777519233d988c6376f0"
   }
  }
 },
 "nbformat": 4,
 "nbformat_minor": 2
}
